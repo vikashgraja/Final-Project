{
 "cells": [
  {
   "cell_type": "code",
   "execution_count": 1,
   "id": "0aa89c0d-c2ac-4d06-8e11-fe5f4755221d",
   "metadata": {},
   "outputs": [],
   "source": [
    "import numpy as np\n",
    "import keras\n",
    "from keras.datasets import mnist"
   ]
  },
  {
   "cell_type": "code",
   "execution_count": 2,
   "id": "22b28418-600d-4ee7-85b3-87818542603b",
   "metadata": {},
   "outputs": [],
   "source": [
    "import matplotlib.pyplot as plt\n",
    "from keras.utils import to_categorical\n"
   ]
  },
  {
   "cell_type": "markdown",
   "id": "c424d38a-fa09-4bc6-9a85-05d5f7607476",
   "metadata": {
    "jp-MarkdownHeadingCollapsed": true
   },
   "source": [
    "## Data Loading and analysis"
   ]
  },
  {
   "cell_type": "code",
   "execution_count": 3,
   "id": "48ebe041-adf0-427e-8c9a-204f3eb4110a",
   "metadata": {},
   "outputs": [],
   "source": [
    "(x_train, y_train), (x_test, y_test) = mnist.load_data()"
   ]
  },
  {
   "cell_type": "code",
   "execution_count": 4,
   "id": "02e02942-b3c4-47c1-9dde-110a8b1f30d2",
   "metadata": {},
   "outputs": [
    {
     "data": {
      "text/plain": [
       "(60000, 28, 28)"
      ]
     },
     "execution_count": 4,
     "metadata": {},
     "output_type": "execute_result"
    }
   ],
   "source": [
    "x_train.shape"
   ]
  },
  {
   "cell_type": "code",
   "execution_count": 5,
   "id": "c2d4be92-4bc6-4070-b53e-fc3c285baacf",
   "metadata": {},
   "outputs": [
    {
     "data": {
      "text/plain": [
       "(60000,)"
      ]
     },
     "execution_count": 5,
     "metadata": {},
     "output_type": "execute_result"
    }
   ],
   "source": [
    "y_train.shape"
   ]
  },
  {
   "cell_type": "code",
   "execution_count": null,
   "id": "7b5fe47a-9e3b-4795-a544-a55ee8ccb139",
   "metadata": {},
   "outputs": [],
   "source": []
  },
  {
   "cell_type": "code",
   "execution_count": 6,
   "id": "58a6d5d8-91ff-4b79-be26-ee3b6817db2a",
   "metadata": {},
   "outputs": [],
   "source": [
    "def class_distribution(arr):\n",
    "    values, counts = np.unique(arr, return_counts=True)\n",
    "    percentages = (counts / len(arr)) * 100\n",
    "    \n",
    "    for value, count, percentage in zip(values, counts, percentages):\n",
    "        print(f\"{value} : {count} : {percentage:.2f}%\")"
   ]
  },
  {
   "cell_type": "code",
   "execution_count": 7,
   "id": "417e991b-5d1e-4cb9-82d4-6b93c14aed04",
   "metadata": {},
   "outputs": [
    {
     "name": "stdout",
     "output_type": "stream",
     "text": [
      "0 : 5923 : 9.87%\n",
      "1 : 6742 : 11.24%\n",
      "2 : 5958 : 9.93%\n",
      "3 : 6131 : 10.22%\n",
      "4 : 5842 : 9.74%\n",
      "5 : 5421 : 9.04%\n",
      "6 : 5918 : 9.86%\n",
      "7 : 6265 : 10.44%\n",
      "8 : 5851 : 9.75%\n",
      "9 : 5949 : 9.92%\n"
     ]
    }
   ],
   "source": [
    "class_distribution(y_train)"
   ]
  },
  {
   "cell_type": "code",
   "execution_count": 8,
   "id": "5d4a9c79-f4f1-4546-96a1-be0b1591e204",
   "metadata": {},
   "outputs": [
    {
     "name": "stdout",
     "output_type": "stream",
     "text": [
      "0 : 980 : 9.80%\n",
      "1 : 1135 : 11.35%\n",
      "2 : 1032 : 10.32%\n",
      "3 : 1010 : 10.10%\n",
      "4 : 982 : 9.82%\n",
      "5 : 892 : 8.92%\n",
      "6 : 958 : 9.58%\n",
      "7 : 1028 : 10.28%\n",
      "8 : 974 : 9.74%\n",
      "9 : 1009 : 10.09%\n"
     ]
    }
   ],
   "source": [
    "class_distribution(y_test)"
   ]
  },
  {
   "cell_type": "code",
   "execution_count": null,
   "id": "4b0373ef-31a4-4640-8152-50465beb1c9f",
   "metadata": {},
   "outputs": [],
   "source": []
  },
  {
   "cell_type": "code",
   "execution_count": 9,
   "id": "d9ef3b46-1669-4bdb-8229-66101f2be743",
   "metadata": {},
   "outputs": [],
   "source": [
    "def visualise_dataset(i):\n",
    "    img = x_train[i]\n",
    "    img = img.reshape((28,28))\n",
    "    plt.imshow(img,cmap='gray')\n",
    "    plt.title(y_train[i])\n",
    "    plt.axis(\"off\")\n",
    "    plt.show()"
   ]
  },
  {
   "cell_type": "code",
   "execution_count": null,
   "id": "88a8df9c-ffa6-46fb-8a47-7e0e7891f7b4",
   "metadata": {},
   "outputs": [],
   "source": []
  },
  {
   "cell_type": "code",
   "execution_count": 10,
   "id": "d465da43-565c-4357-80e8-d2e2cfe3894b",
   "metadata": {},
   "outputs": [
    {
     "data": {
      "image/png": "[encoded data removed]",
      "text/plain": [
       "<Figure size 640x480 with 1 Axes>"
      ]
     },
     "metadata": {},
     "output_type": "display_data"
    }
   ],
   "source": [
    "visualise_dataset(14)"
   ]
  },
  {
   "cell_type": "code",
   "execution_count": null,
   "id": "e2c6428e-c365-490a-a320-01305a685d98",
   "metadata": {},
   "outputs": [],
   "source": []
  },
  {
   "cell_type": "markdown",
   "id": "7c9c8d26-1f79-4dea-953f-6d448137fad4",
   "metadata": {
    "jp-MarkdownHeadingCollapsed": true
   },
   "source": [
    "## Data Preprocess"
   ]
  },
  {
   "cell_type": "code",
   "execution_count": 11,
   "id": "9a4196d2-63c7-4cfa-9aaf-e71f76bfceba",
   "metadata": {},
   "outputs": [],
   "source": [
    "from sklearn.model_selection import train_test_split"
   ]
  },
  {
   "cell_type": "code",
   "execution_count": 12,
   "id": "de0778e4-7b12-42df-b218-94794ab47462",
   "metadata": {},
   "outputs": [],
   "source": [
    "img_rows, img_cols=28, 28"
   ]
  },
  {
   "cell_type": "code",
   "execution_count": 13,
   "id": "31ad2059-f56e-4ad2-950b-498e93130ce9",
   "metadata": {},
   "outputs": [],
   "source": [
    "x_train = x_train.reshape(x_train.shape[0], img_rows, img_cols, 1)\n",
    "x_test = x_test.reshape(x_test.shape[0], img_rows, img_cols, 1)\n",
    "inpx = (img_rows, img_cols, 1)"
   ]
  },
  {
   "cell_type": "code",
   "execution_count": null,
   "id": "7be00634-fe8d-49f2-9684-4a3f32284398",
   "metadata": {},
   "outputs": [],
   "source": []
  },
  {
   "cell_type": "code",
   "execution_count": 14,
   "id": "8a728c85-64c4-472f-85ea-273049bff332",
   "metadata": {},
   "outputs": [],
   "source": [
    "x_train = x_train.astype('float32')\n",
    "x_test = x_test.astype('float32')"
   ]
  },
  {
   "cell_type": "code",
   "execution_count": 15,
   "id": "5721792d-9ade-46c8-8e23-908c1c63a72a",
   "metadata": {},
   "outputs": [],
   "source": [
    "x_train /= 255\n",
    "x_test /= 255"
   ]
  },
  {
   "cell_type": "code",
   "execution_count": null,
   "id": "d4b0be6b-029a-4693-be26-b5b975ea35e4",
   "metadata": {},
   "outputs": [],
   "source": []
  },
  {
   "cell_type": "code",
   "execution_count": 16,
   "id": "427311c4-ec76-4a67-aa96-6ac7760d68c2",
   "metadata": {},
   "outputs": [],
   "source": [
    "y_train = to_categorical(y_train, num_classes=10)"
   ]
  },
  {
   "cell_type": "code",
   "execution_count": 17,
   "id": "17592770-6bac-47ae-b44f-38294913052e",
   "metadata": {},
   "outputs": [],
   "source": [
    "y_test = to_categorical(y_test, num_classes=10)"
   ]
  },
  {
   "cell_type": "code",
   "execution_count": null,
   "id": "04f014b7-1cc1-4429-a029-45940131b068",
   "metadata": {},
   "outputs": [],
   "source": []
  },
  {
   "cell_type": "code",
   "execution_count": 18,
   "id": "402cd29f-91e3-4b92-8bb6-f419a47384e0",
   "metadata": {},
   "outputs": [],
   "source": [
    "x_train, x_val, y_train, y_val = train_test_split(x_train, y_train, test_size = 0.1, random_state=2)"
   ]
  },
  {
   "cell_type": "code",
   "execution_count": null,
   "id": "a41d6586-5719-461d-862b-337cdefd37e2",
   "metadata": {},
   "outputs": [],
   "source": []
  },
  {
   "cell_type": "markdown",
   "id": "d5760df8-3ec2-4e76-b43a-58e140d63838",
   "metadata": {
    "jp-MarkdownHeadingCollapsed": true
   },
   "source": [
    "## Data Augmentation"
   ]
  },
  {
   "cell_type": "code",
   "execution_count": 19,
   "id": "95976dc0-c9a5-4f21-9abe-784d19a10799",
   "metadata": {},
   "outputs": [],
   "source": [
    "from tensorflow.keras.preprocessing.image import ImageDataGenerator"
   ]
  },
  {
   "cell_type": "code",
   "execution_count": 20,
   "id": "1662de29-1803-4d55-b2cc-0a750164a116",
   "metadata": {},
   "outputs": [],
   "source": [
    "augmentation = ImageDataGenerator(\n",
    "    rotation_range=5,\n",
    "    zoom_range = 0.1,\n",
    "    width_shift_range=0.1,\n",
    "    height_shift_range=0.1,\n",
    "    horizontal_flip=False,\n",
    "    vertical_flip=False # Due to 6 & 9\n",
    ")"
   ]
  },
  {
   "cell_type": "code",
   "execution_count": 21,
   "id": "eb226427-7b62-4b9e-91ec-3a3a2753bb3e",
   "metadata": {},
   "outputs": [],
   "source": [
    "augmentation.fit(x_train)"
   ]
  },
  {
   "cell_type": "code",
   "execution_count": null,
   "id": "63b1acec-9fe9-4bfa-a8ad-729229511143",
   "metadata": {},
   "outputs": [],
   "source": []
  },
  {
   "cell_type": "markdown",
   "id": "8b83e27c-70b5-4912-bbd7-dadd84ff377b",
   "metadata": {
    "jp-MarkdownHeadingCollapsed": true
   },
   "source": [
    "## Model Build"
   ]
  },
  {
   "cell_type": "code",
   "execution_count": 22,
   "id": "341f157e-6476-4b2c-bc29-58d756d35cbf",
   "metadata": {},
   "outputs": [],
   "source": [
    "from keras.models import Sequential\n",
    "from keras.layers import Input, Conv2D, MaxPool2D, Dropout, Flatten, Dense\n",
    "from keras.optimizers import Adam"
   ]
  },
  {
   "cell_type": "code",
   "execution_count": null,
   "id": "79fa71d1-0697-4046-bb66-450db40df58a",
   "metadata": {},
   "outputs": [],
   "source": []
  },
  {
   "cell_type": "code",
   "execution_count": 23,
   "id": "49f7d96b-0391-4775-aa04-9e1386b6067b",
   "metadata": {},
   "outputs": [],
   "source": [
    "model = Sequential([\n",
    "    Input(shape=(28, 28, 1)),\n",
    "    Conv2D(filters=8, kernel_size=(5,5), padding='Same', activation='relu'),\n",
    "    MaxPool2D(pool_size=(2,2)),\n",
    "    Dropout(0.25),\n",
    "    \n",
    "    Conv2D(filters=16, kernel_size=(3,3), padding='Same', activation='relu'),\n",
    "    MaxPool2D(pool_size=(2,2), strides=(2,2)),\n",
    "    Dropout(0.25),\n",
    "    \n",
    "    Flatten(),\n",
    "    Dense(256, activation=\"relu\"),\n",
    "    Dropout(0.5),\n",
    "    Dense(10, activation=\"softmax\")\n",
    "])"
   ]
  },
  {
   "cell_type": "code",
   "execution_count": null,
   "id": "9749b2cb-0bb5-49c9-8f8f-295bb48098a2",
   "metadata": {},
   "outputs": [],
   "source": []
  },
  {
   "cell_type": "code",
   "execution_count": 24,
   "id": "3bb92251-264e-4e40-9a49-1f081b68e919",
   "metadata": {},
   "outputs": [],
   "source": [
    "optimizer = Adam(learning_rate=0.001)"
   ]
  },
  {
   "cell_type": "code",
   "execution_count": null,
   "id": "64ccaa0b-1276-490a-903a-e366ba311c24",
   "metadata": {},
   "outputs": [],
   "source": []
  },
  {
   "cell_type": "code",
   "execution_count": 25,
   "id": "fad491ec-9b33-4bd9-abc2-74304b2cd98f",
   "metadata": {},
   "outputs": [],
   "source": [
    "model.compile(optimizer = optimizer , loss = \"categorical_crossentropy\", metrics=[\"accuracy\"])"
   ]
  },
  {
   "cell_type": "code",
   "execution_count": null,
   "id": "7a3b98b4-9d06-49e9-a907-f2fcd4f1b956",
   "metadata": {},
   "outputs": [],
   "source": []
  },
  {
   "cell_type": "markdown",
   "id": "478a6f0f-0239-4cd6-b465-f9e96a0544e1",
   "metadata": {},
   "source": [
    "## Maodel Training"
   ]
  },
  {
   "cell_type": "code",
   "execution_count": null,
   "id": "69d56732-ea7e-4483-899e-15bf099eadb0",
   "metadata": {},
   "outputs": [],
   "source": []
  },
  {
   "cell_type": "code",
   "execution_count": 26,
   "id": "2b91adb5-29eb-452c-abdc-02c52feb39f6",
   "metadata": {},
   "outputs": [],
   "source": [
    "epochs = 16\n",
    "batch_size = 500"
   ]
  },
  {
   "cell_type": "code",
   "execution_count": 27,
   "id": "6d9d9159-0423-490e-b9d2-100fb99d6025",
   "metadata": {},
   "outputs": [
    {
     "name": "stdout",
     "output_type": "stream",
     "text": [
      "Epoch 1/16\n"
     ]
    },
    {
     "name": "stderr",
     "output_type": "stream",
     "text": [
      "/Library/Frameworks/Python.framework/Versions/3.11/lib/python3.11/site-packages/keras/src/trainers/data_adapters/py_dataset_adapter.py:120: UserWarning: Your `PyDataset` class should call `super().__init__(**kwargs)` in its constructor. `**kwargs` can include `workers`, `use_multiprocessing`, `max_queue_size`. Do not pass these arguments to `fit()`, as they will be ignored.\n",
      "  self._warn_if_super_not_called()\n"
     ]
    },
    {
     "name": "stdout",
     "output_type": "stream",
     "text": [
      "\u001b[1m108/108\u001b[0m \u001b[32m━━━━━━━━━━━━━━━━━━━━\u001b[0m\u001b[37m\u001b[0m \u001b[1m7s\u001b[0m 54ms/step - accuracy: 0.4184 - loss: 1.6774 - val_accuracy: 0.9332 - val_loss: 0.2861\n",
      "Epoch 2/16\n",
      "\u001b[1m108/108\u001b[0m \u001b[32m━━━━━━━━━━━━━━━━━━━━\u001b[0m\u001b[37m\u001b[0m \u001b[1m6s\u001b[0m 51ms/step - accuracy: 0.8150 - loss: 0.5747 - val_accuracy: 0.9572 - val_loss: 0.1462\n",
      "Epoch 3/16\n",
      "\u001b[1m108/108\u001b[0m \u001b[32m━━━━━━━━━━━━━━━━━━━━\u001b[0m\u001b[37m\u001b[0m \u001b[1m6s\u001b[0m 49ms/step - accuracy: 0.8817 - loss: 0.3751 - val_accuracy: 0.9670 - val_loss: 0.1073\n",
      "Epoch 4/16\n",
      "\u001b[1m108/108\u001b[0m \u001b[32m━━━━━━━━━━━━━━━━━━━━\u001b[0m\u001b[37m\u001b[0m \u001b[1m5s\u001b[0m 46ms/step - accuracy: 0.9087 - loss: 0.2899 - val_accuracy: 0.9730 - val_loss: 0.0886\n",
      "Epoch 5/16\n",
      "\u001b[1m108/108\u001b[0m \u001b[32m━━━━━━━━━━━━━━━━━━━━\u001b[0m\u001b[37m\u001b[0m \u001b[1m5s\u001b[0m 48ms/step - accuracy: 0.9197 - loss: 0.2580 - val_accuracy: 0.9758 - val_loss: 0.0762\n",
      "Epoch 6/16\n",
      "\u001b[1m108/108\u001b[0m \u001b[32m━━━━━━━━━━━━━━━━━━━━\u001b[0m\u001b[37m\u001b[0m \u001b[1m5s\u001b[0m 46ms/step - accuracy: 0.9277 - loss: 0.2341 - val_accuracy: 0.9760 - val_loss: 0.0712\n",
      "Epoch 7/16\n",
      "\u001b[1m108/108\u001b[0m \u001b[32m━━━━━━━━━━━━━━━━━━━━\u001b[0m\u001b[37m\u001b[0m \u001b[1m5s\u001b[0m 46ms/step - accuracy: 0.9363 - loss: 0.2084 - val_accuracy: 0.9787 - val_loss: 0.0652\n",
      "Epoch 8/16\n",
      "\u001b[1m108/108\u001b[0m \u001b[32m━━━━━━━━━━━━━━━━━━━━\u001b[0m\u001b[37m\u001b[0m \u001b[1m6s\u001b[0m 52ms/step - accuracy: 0.9396 - loss: 0.1913 - val_accuracy: 0.9793 - val_loss: 0.0610\n",
      "Epoch 9/16\n",
      "\u001b[1m108/108\u001b[0m \u001b[32m━━━━━━━━━━━━━━━━━━━━\u001b[0m\u001b[37m\u001b[0m \u001b[1m7s\u001b[0m 66ms/step - accuracy: 0.9444 - loss: 0.1838 - val_accuracy: 0.9822 - val_loss: 0.0585\n",
      "Epoch 10/16\n",
      "\u001b[1m108/108\u001b[0m \u001b[32m━━━━━━━━━━━━━━━━━━━━\u001b[0m\u001b[37m\u001b[0m \u001b[1m7s\u001b[0m 62ms/step - accuracy: 0.9478 - loss: 0.1703 - val_accuracy: 0.9823 - val_loss: 0.0571\n",
      "Epoch 11/16\n",
      "\u001b[1m108/108\u001b[0m \u001b[32m━━━━━━━━━━━━━━━━━━━━\u001b[0m\u001b[37m\u001b[0m \u001b[1m7s\u001b[0m 66ms/step - accuracy: 0.9507 - loss: 0.1647 - val_accuracy: 0.9827 - val_loss: 0.0528\n",
      "Epoch 12/16\n",
      "\u001b[1m108/108\u001b[0m \u001b[32m━━━━━━━━━━━━━━━━━━━━\u001b[0m\u001b[37m\u001b[0m \u001b[1m7s\u001b[0m 61ms/step - accuracy: 0.9518 - loss: 0.1611 - val_accuracy: 0.9817 - val_loss: 0.0546\n",
      "Epoch 13/16\n",
      "\u001b[1m108/108\u001b[0m \u001b[32m━━━━━━━━━━━━━━━━━━━━\u001b[0m\u001b[37m\u001b[0m \u001b[1m6s\u001b[0m 53ms/step - accuracy: 0.9519 - loss: 0.1568 - val_accuracy: 0.9842 - val_loss: 0.0500\n",
      "Epoch 14/16\n",
      "\u001b[1m108/108\u001b[0m \u001b[32m━━━━━━━━━━━━━━━━━━━━\u001b[0m\u001b[37m\u001b[0m \u001b[1m6s\u001b[0m 55ms/step - accuracy: 0.9555 - loss: 0.1439 - val_accuracy: 0.9855 - val_loss: 0.0474\n",
      "Epoch 15/16\n",
      "\u001b[1m108/108\u001b[0m \u001b[32m━━━━━━━━━━━━━━━━━━━━\u001b[0m\u001b[37m\u001b[0m \u001b[1m6s\u001b[0m 51ms/step - accuracy: 0.9564 - loss: 0.1448 - val_accuracy: 0.9863 - val_loss: 0.0441\n",
      "Epoch 16/16\n",
      "\u001b[1m108/108\u001b[0m \u001b[32m━━━━━━━━━━━━━━━━━━━━\u001b[0m\u001b[37m\u001b[0m \u001b[1m6s\u001b[0m 51ms/step - accuracy: 0.9586 - loss: 0.1387 - val_accuracy: 0.9857 - val_loss: 0.0452\n"
     ]
    }
   ],
   "source": [
    "results = model.fit(augmentation.flow(x_train,y_train, batch_size=batch_size),\n",
    "                              epochs = epochs, validation_data = (x_val,y_val))"
   ]
  },
  {
   "cell_type": "code",
   "execution_count": null,
   "id": "5e940b85-0f83-4cf1-9464-bfa0526bab65",
   "metadata": {},
   "outputs": [],
   "source": []
  },
  {
   "cell_type": "code",
   "execution_count": 28,
   "id": "4ff3a5c8-c7c1-4b73-aa2b-51b3b38373ad",
   "metadata": {},
   "outputs": [
    {
     "data": {
      "image/png": "[encoded data removed]",
      "text/plain": [
       "<Figure size 640x480 with 1 Axes>"
      ]
     },
     "metadata": {},
     "output_type": "display_data"
    }
   ],
   "source": [
    "# Plot the loss and accuracy curves for training and validation \n",
    "plt.plot(results.history['val_loss'], color='r', label=\"validation loss\")\n",
    "plt.plot(results.history['val_accuracy'], color='b', label=\"validation accuracy\")\n",
    "plt.title(\"Training\")\n",
    "plt.xlabel(\"Number of Epochs\")\n",
    "plt.ylabel(\"Loss\")\n",
    "plt.legend()\n",
    "plt.show()"
   ]
  },
  {
   "cell_type": "code",
   "execution_count": null,
   "id": "bae4254c-bca7-48a2-b783-a9780b71f902",
   "metadata": {},
   "outputs": [],
   "source": []
  },
  {
   "cell_type": "markdown",
   "id": "5b18966f-9c4c-4919-812a-c7bba7a52b6f",
   "metadata": {},
   "source": [
    "## Model Evaluation"
   ]
  },
  {
   "cell_type": "code",
   "execution_count": 29,
   "id": "f4b1697f-848a-4c63-a753-667cd0668749",
   "metadata": {},
   "outputs": [],
   "source": [
    "from sklearn.metrics import accuracy_score, f1_score, precision_score, recall_score,classification_report,confusion_matrix"
   ]
  },
  {
   "cell_type": "code",
   "execution_count": null,
   "id": "60b42292-1c9d-4b2a-9199-b890e7cd61e4",
   "metadata": {},
   "outputs": [],
   "source": []
  },
  {
   "cell_type": "code",
   "execution_count": 30,
   "id": "ea933df6-a03a-4905-9d78-fcabf9cb26d9",
   "metadata": {},
   "outputs": [
    {
     "name": "stdout",
     "output_type": "stream",
     "text": [
      "\u001b[1m313/313\u001b[0m \u001b[32m━━━━━━━━━━━━━━━━━━━━\u001b[0m\u001b[37m\u001b[0m \u001b[1m1s\u001b[0m 2ms/step\n"
     ]
    }
   ],
   "source": [
    "y_pre_classes = model.predict(x_test).argmax(axis=1)\n",
    "y_test_classes = np.argmax(y_test, axis=1)"
   ]
  },
  {
   "cell_type": "code",
   "execution_count": 31,
   "id": "0f933b18-039d-4739-8a5c-383627dee226",
   "metadata": {},
   "outputs": [
    {
     "data": {
      "text/plain": [
       "0.9885"
      ]
     },
     "execution_count": 31,
     "metadata": {},
     "output_type": "execute_result"
    }
   ],
   "source": [
    "accuracy_score(y_test_classes, y_pre_classes)"
   ]
  },
  {
   "cell_type": "code",
   "execution_count": 32,
   "id": "da01f9e2-b2ae-4ed8-8871-5d62c1151573",
   "metadata": {},
   "outputs": [
    {
     "name": "stdout",
     "output_type": "stream",
     "text": [
      "              precision    recall  f1-score   support\n",
      "\n",
      "           0       0.99      1.00      0.99       980\n",
      "           1       0.99      0.99      0.99      1135\n",
      "           2       0.99      0.99      0.99      1032\n",
      "           3       0.99      0.99      0.99      1010\n",
      "           4       0.99      0.99      0.99       982\n",
      "           5       0.99      0.98      0.99       892\n",
      "           6       0.99      0.99      0.99       958\n",
      "           7       0.98      0.99      0.98      1028\n",
      "           8       0.99      0.98      0.98       974\n",
      "           9       0.98      0.98      0.98      1009\n",
      "\n",
      "    accuracy                           0.99     10000\n",
      "   macro avg       0.99      0.99      0.99     10000\n",
      "weighted avg       0.99      0.99      0.99     10000\n",
      "\n"
     ]
    }
   ],
   "source": [
    "print(classification_report(y_test_classes, y_pre_classes))"
   ]
  },
  {
   "cell_type": "code",
   "execution_count": null,
   "id": "2c550447-3e42-4124-acc0-d7791db47dbe",
   "metadata": {},
   "outputs": [],
   "source": []
  },
  {
   "cell_type": "code",
   "execution_count": 33,
   "id": "7f8d58d3-7f9e-44be-a877-4bfb9b1fc286",
   "metadata": {},
   "outputs": [],
   "source": [
    "accuracy = accuracy_score(y_test_classes, y_pre_classes)\n",
    "f1 = f1_score(y_test_classes, y_pre_classes, average='weighted')\n",
    "precision = precision_score(y_test_classes, y_pre_classes, average='weighted')\n",
    "recall = recall_score(y_test_classes, y_pre_classes, average='weighted')"
   ]
  },
  {
   "cell_type": "code",
   "execution_count": 34,
   "id": "7686c82d-bc38-4e8c-8af0-7f61f322c333",
   "metadata": {},
   "outputs": [
    {
     "name": "stdout",
     "output_type": "stream",
     "text": [
      "Accuracy: 0.9885\n",
      "F1-score: 0.9885\n",
      "Precision: 0.9885\n",
      "Recall: 0.9885\n"
     ]
    }
   ],
   "source": [
    "print(f\"Accuracy: {accuracy:.4f}\")\n",
    "print(f\"F1-score: {f1:.4f}\")\n",
    "print(f\"Precision: {precision:.4f}\")\n",
    "print(f\"Recall: {recall:.4f}\")"
   ]
  },
  {
   "cell_type": "code",
   "execution_count": null,
   "id": "3527cdea-ebfa-400a-8aab-e24373adf29a",
   "metadata": {},
   "outputs": [],
   "source": []
  },
  {
   "cell_type": "code",
   "execution_count": 35,
   "id": "530d5954-cf22-4e76-b168-4a1faa24163d",
   "metadata": {},
   "outputs": [],
   "source": [
    "cm = confusion_matrix(y_test_classes, y_pre_classes)"
   ]
  },
  {
   "cell_type": "code",
   "execution_count": null,
   "id": "710d43c3-6292-4d2d-a5e4-1889bc6c7826",
   "metadata": {},
   "outputs": [],
   "source": []
  },
  {
   "cell_type": "code",
   "execution_count": 36,
   "id": "6d9b13a1-2387-4cf5-b4ee-45c26a100c19",
   "metadata": {},
   "outputs": [],
   "source": [
    "import seaborn as sns"
   ]
  },
  {
   "cell_type": "code",
   "execution_count": 37,
   "id": "cd56927a-3a9f-4aeb-8ebd-5064c94d5806",
   "metadata": {},
   "outputs": [
    {
     "data": {
      "image/png": "[encoded data removed]",
      "text/plain": [
       "<Figure size 1000x800 with 2 Axes>"
      ]
     },
     "metadata": {},
     "output_type": "display_data"
    }
   ],
   "source": [
    "plt.figure(figsize=(10,8))\n",
    "sns.heatmap(cm, annot=True, fmt='d', cmap='Blues')\n",
    "plt.title('Confusion Matrix')\n",
    "plt.ylabel('True Label')\n",
    "plt.xlabel('Predicted Label')\n",
    "plt.show()"
   ]
  },
  {
   "cell_type": "code",
   "execution_count": null,
   "id": "50be2555-6426-4162-8237-c8d1db62556d",
   "metadata": {},
   "outputs": [],
   "source": []
  },
  {
   "cell_type": "code",
   "execution_count": 38,
   "id": "0296ee76-c0bf-42e2-8c38-df3752b5d2ce",
   "metadata": {},
   "outputs": [
    {
     "data": {
      "image/png": "[encoded data removed]",
      "text/plain": [
       "<Figure size 1000x800 with 2 Axes>"
      ]
     },
     "metadata": {},
     "output_type": "display_data"
    }
   ],
   "source": [
    "cm_normalized = cm.astype('float') / cm.sum(axis=1)[:, np.newaxis]\n",
    "plt.figure(figsize=(10,8))\n",
    "sns.heatmap(cm_normalized, annot=True, fmt='.2%', cmap='Blues')\n",
    "plt.title('Normalized Confusion Matrix')\n",
    "plt.ylabel('True Label')\n",
    "plt.xlabel('Predicted Label')\n",
    "plt.show()"
   ]
  },
  {
   "cell_type": "code",
   "execution_count": null,
   "id": "e56f4e3d-d18a-4fa5-a17c-7f655196257e",
   "metadata": {},
   "outputs": [],
   "source": []
  },
  {
   "cell_type": "code",
   "execution_count": 42,
   "id": "acacc5f6-5175-4ce4-a148-3f2eea5aec4d",
   "metadata": {},
   "outputs": [],
   "source": [
    "model.save('mnist_cnn.keras')"
   ]
  },
  {
   "cell_type": "code",
   "execution_count": null,
   "id": "5c4f7c9d-a944-417d-8f64-2fa9d551d8c7",
   "metadata": {},
   "outputs": [],
   "source": []
  },
  {
   "cell_type": "code",
   "execution_count": null,
   "id": "e87f3db5-fde5-44cb-b772-0923d22a71b5",
   "metadata": {},
   "outputs": [],
   "source": [
    "import sagemaker\n",
    "from sagemaker.tensorflow import TensorFlowModel\n",
    "\n",
    "# Package your model\n",
    "model_data = sagemaker.utils.s3_path_join(\n",
    "    \"s3://your-bucket\", \"mnist_model\", \"mnist_cnn.keras\"\n",
    ")\n",
    "\n",
    "# Create SageMaker model\n",
    "sagemaker_model = TensorFlowModel(\n",
    "    model_data=model_data,\n",
    "    role=\"your-sagemaker-role-arn\",\n",
    "    framework_version=\"2.12.0\"\n",
    ")\n",
    "\n",
    "# Deploy model\n",
    "predictor = sagemaker_model.deploy(\n",
    "    initial_instance_count=1,\n",
    "    instance_type=\"ml.t2.medium\"\n",
    ")"
   ]
  },
  {
   "cell_type": "code",
   "execution_count": null,
   "id": "e261a5c1-5913-4636-b16d-2e4a5d8bfa86",
   "metadata": {},
   "outputs": [],
   "source": []
  }
 ],
 "metadata": {
  "kernelspec": {
   "display_name": "Python 3 (ipykernel)",
   "language": "python",
   "name": "python3"
  },
  "language_info": {
   "codemirror_mode": {
    "name": "ipython",
    "version": 3
   },
   "file_extension": ".py",
   "mimetype": "text/x-python",
   "name": "python",
   "nbconvert_exporter": "python",
   "pygments_lexer": "ipython3",
   "version": "3.11.5"
  }
 },
 "nbformat": 4,
 "nbformat_minor": 5
}
